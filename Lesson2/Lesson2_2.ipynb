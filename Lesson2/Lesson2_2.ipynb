{
 "cells": [
  {
   "cell_type": "markdown",
   "id": "d68ef8fc",
   "metadata": {},
   "source": [
    "### Python 基礎\n"
   ]
  },
  {
   "cell_type": "code",
   "execution_count": 2,
   "id": "4ef04916",
   "metadata": {},
   "outputs": [
    {
     "name": "stdout",
     "output_type": "stream",
     "text": [
      "hello!! Python!!\n"
     ]
    }
   ],
   "source": [
    "print(\"hello!! Python!!\")\n"
   ]
  }
 ],
 "metadata": {
  "kernelspec": {
   "display_name": "venv311",
   "language": "python",
   "name": "python3"
  },
  "language_info": {
   "codemirror_mode": {
    "name": "ipython",
    "version": 3
   },
   "file_extension": ".py",
   "mimetype": "text/x-python",
   "name": "python",
   "nbconvert_exporter": "python",
   "pygments_lexer": "ipython3",
   "version": "3.11.13"
  }
 },
 "nbformat": 4,
 "nbformat_minor": 5
}
